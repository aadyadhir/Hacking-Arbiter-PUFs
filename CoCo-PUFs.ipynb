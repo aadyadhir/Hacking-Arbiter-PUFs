{
 "cells": [
  {
   "cell_type": "code",
   "execution_count": 1,
   "metadata": {},
   "outputs": [
    {
     "ename": "ModuleNotFoundError",
     "evalue": "No module named 'numpy'",
     "output_type": "error",
     "traceback": [
      "\u001b[1;31m---------------------------------------------------------------------------\u001b[0m",
      "\u001b[1;31mModuleNotFoundError\u001b[0m                       Traceback (most recent call last)",
      "Cell \u001b[1;32mIn[1], line 1\u001b[0m\n\u001b[1;32m----> 1\u001b[0m \u001b[38;5;28;01mimport\u001b[39;00m \u001b[38;5;21;01mnumpy\u001b[39;00m \u001b[38;5;28;01mas\u001b[39;00m \u001b[38;5;21;01mnp\u001b[39;00m\n\u001b[0;32m      2\u001b[0m \u001b[38;5;28;01mimport\u001b[39;00m \u001b[38;5;21;01mpandas\u001b[39;00m \u001b[38;5;28;01mas\u001b[39;00m \u001b[38;5;21;01mpd\u001b[39;00m\n\u001b[0;32m      3\u001b[0m \u001b[38;5;28;01mfrom\u001b[39;00m \u001b[38;5;21;01msklearn\u001b[39;00m\u001b[38;5;21;01m.\u001b[39;00m\u001b[38;5;21;01mlinear_model\u001b[39;00m \u001b[38;5;28;01mimport\u001b[39;00m LogisticRegression\n",
      "\u001b[1;31mModuleNotFoundError\u001b[0m: No module named 'numpy'"
     ]
    }
   ],
   "source": [
    "import numpy as np\n",
    "import pandas as pd\n",
    "from sklearn.linear_model import LogisticRegression\n",
    "from sklearn.svm import LinearSVC\n",
    "from sklearn.metrics import accuracy_score\n",
    "import time as tm\n",
    "import numpy as np"
   ]
  },
  {
   "cell_type": "code",
   "execution_count": null,
   "metadata": {},
   "outputs": [],
   "source": [
    "Z_trn = np.loadtxt(\"secret_trn.txt\")\n",
    "Z_tst = np.loadtxt(\"secret_tst.txt\")\n",
    "\n",
    "n_trials = 5\n",
    "\n",
    "d_size = 0\n",
    "t_train = 0\n",
    "t_map = 0\n",
    "\n",
    "acc0 = 0\n",
    "acc1 = 0"
   ]
  },
  {
   "cell_type": "code",
   "execution_count": null,
   "metadata": {},
   "outputs": [],
   "source": [
    "def my_map(challenges):\n",
    "    features = []\n",
    "\n",
    "    for challenge in challenges:\n",
    "        # Take the first 32 numbers of the challenge array\n",
    "        challenge_subset = challenge[:32]\n",
    "\n",
    "        di = 1 - 2 * challenge_subset  # Calculate di values for the subset of challenge\n",
    "\n",
    "        # Calculate cumulative product in reverse\n",
    "        cumprod_di = np.cumprod(di[::-1])[::-1]\n",
    "\n",
    "        # Calculate xi values using cumulative products\n",
    "        xi = cumprod_di[:-1]  # Remove the last element\n",
    "\n",
    "        feature_vector = np.concatenate((xi, di)).flatten()  # Concatenate and flatten xi and di\n",
    "        features.append(feature_vector)\n",
    "\n",
    "    feat = np.array(features)  # Convert list of feature vectors to numpy array\n",
    "    return feat\n",
    "\n",
    "\n",
    "\n",
    "from sklearn.svm import LinearSVC\n",
    "\n",
    "def my_fit(X_train, y0_train, y1_train):\n",
    "################################\n",
    "#  Non Editable Region Ending  #\n",
    "################################\n",
    "    # Use this method to train your models using training CRPs\n",
    "    # X_train has 32 columns containing the challenge bits\n",
    "    # y0_train contains the values for Response0\n",
    "    # y1_train contains the values for Response1\n",
    "\n",
    "    # Set C values based on the provided parameter\n",
    "\n",
    "    C=0.01\n",
    "    # Map challenges to features\n",
    "    features_train = my_map(X_train)\n",
    "\n",
    "    # Train models for Response0 using LinearSVC with specified loss and C value\n",
    "\n",
    "\n",
    "    # Train models for Response0 using LinearSVC with specified loss and C value\n",
    "    model0 = LinearSVC( C=C)\n",
    "    model0.fit(features_train, y0_train)\n",
    "    w0 = model0.coef_.flatten()\n",
    "    b0 = model0.intercept_[0]\n",
    "\n",
    "    # Train models for Response1 using LinearSVC with specified loss and C value\n",
    "    model1 = LinearSVC(C=C)\n",
    "    model1.fit(features_train, y1_train)\n",
    "    w1 = model1.coef_.flatten()\n",
    "    b1 = model1.intercept_[0]\n",
    "\n",
    "\n",
    "    return w0, b0, w1, b1\n"
   ]
  },
  {
   "cell_type": "code",
   "execution_count": null,
   "metadata": {},
   "outputs": [],
   "source": [
    "for t in range(n_trials):\n",
    "\n",
    "    tic = tm.perf_counter()\n",
    "    w0, b0, w1, b1 = my_fit(Z_trn[:, :-2], Z_trn[:, -2], Z_trn[:, -1])\n",
    "    toc = tm.perf_counter()\n",
    "\n",
    "    t_train += toc - tic\n",
    "    w0 = w0.reshape(-1)\n",
    "    w1 = w1.reshape(-1)\n",
    "\n",
    "    d_size += max(w0.shape[0], w1.shape[0])\n",
    "\n",
    "    tic = tm.perf_counter()\n",
    "    feat = my_map(Z_tst[:, :-2])\n",
    "    toc = tm.perf_counter()\n",
    "    t_map += toc - tic\n",
    "\n",
    "    scores0 = feat.dot(w0) + b0\n",
    "    scores1 = feat.dot(w1) + b1\n",
    "\n",
    "    pred0 = np.zeros_like(scores0)\n",
    "    pred0[scores0 > 0] = 1\n",
    "    pred1 = np.zeros_like(scores1)\n",
    "    pred1[scores1 > 0] = 1\n",
    "\n",
    "    acc0 += np.average(Z_tst[:, -2] == pred0)\n",
    "    acc1 += np.average(Z_tst[:, -1] == pred1)"
   ]
  },
  {
   "cell_type": "code",
   "execution_count": null,
   "metadata": {},
   "outputs": [],
   "source": [
    "d_size /= n_trials\n",
    "t_train /= n_trials\n",
    "t_map /= n_trials\n",
    "acc0 /= n_trials\n",
    "acc1 /= n_trials"
   ]
  },
  {
   "cell_type": "code",
   "execution_count": null,
   "metadata": {},
   "outputs": [],
   "source": [
    "print( f\"{d_size},{t_train},{t_map},{acc0},{acc1}\" )"
   ]
  }
 ],
 "metadata": {
  "kernelspec": {
   "display_name": ".venv",
   "language": "python",
   "name": "python3"
  },
  "language_info": {
   "codemirror_mode": {
    "name": "ipython",
    "version": 3
   },
   "file_extension": ".py",
   "mimetype": "text/x-python",
   "name": "python",
   "nbconvert_exporter": "python",
   "pygments_lexer": "ipython3",
   "version": "3.8.3"
  }
 },
 "nbformat": 4,
 "nbformat_minor": 2
}
